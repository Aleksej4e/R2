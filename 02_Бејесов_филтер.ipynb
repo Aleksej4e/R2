{
 "cells": [
  {
   "cell_type": "markdown",
   "metadata": {},
   "source": [
    "#Бејесов филтер\n",
    "\n",
    "Очекувано време за сработување: 2 дена по 8 часа."
   ]
  },
  {
   "cell_type": "code",
   "execution_count": 1,
   "metadata": {},
   "outputs": [],
   "source": [
    "import numpy as np\n",
    "import plotly.graph_objects as go"
   ]
  },
  {
   "cell_type": "markdown",
   "metadata": {},
   "source": [
    "## Референци\n",
    "\n",
    "- [Веројатносна роботика, глава 2](https://e-kursevi.feit.ukim.edu.mk/mod/resource/view.php?id=12791)\n",
    "- [За Бејесовата теорема - Дерек Милер](https://www.youtube.com/watch?v=R13BD8qKeTg)\n",
    "- [За Бејесовата теорема - Грант Сандерсон](https://www.youtube.com/watch?v=HZGCoVF3YvM)\n",
    "- [График со стогови (анг. bar chart)](https://plotly.com/python/bar-charts/)"
   ]
  },
  {
   "cell_type": "code",
   "execution_count": 2,
   "metadata": {},
   "outputs": [
    {
     "data": {
      "image/jpeg": "[encoded data removed]",
      "text/html": [
       "\n",
       "        <iframe\n",
       "            width=\"400\"\n",
       "            height=\"300\"\n",
       "            src=\"https://www.youtube.com/embed/HLclkVra354\"\n",
       "            frameborder=\"0\"\n",
       "            allowfullscreen\n",
       "        ></iframe>\n",
       "        "
      ],
      "text/plain": [
       "<IPython.lib.display.YouTubeVideo at 0x7f91d80255e0>"
      ]
     },
     "execution_count": 2,
     "metadata": {},
     "output_type": "execute_result"
    }
   ],
   "source": [
    "from IPython.lib.display import YouTubeVideo\n",
    "YouTubeVideo('HLclkVra354')"
   ]
  },
  {
   "cell_type": "code",
   "execution_count": 3,
   "metadata": {},
   "outputs": [],
   "source": [
    "states = ['open', 'closed']"
   ]
  },
  {
   "cell_type": "code",
   "execution_count": 4,
   "metadata": {},
   "outputs": [],
   "source": [
    "# key = (new_state, control_input, current_state)\n",
    "state_transition_p = {\n",
    "    ('open', 'push', 'open'): 1,\n",
    "    ('closed', 'push', 'open'): 0,\n",
    "    ('open', 'push', 'closed'): 0.8,\n",
    "    ('closed', 'push', 'closed'): 0.2,\n",
    "    ('open', 'do_nothing', 'open'): 1,\n",
    "    ('closed', 'do_nothing', 'open'): 0,\n",
    "    ('open', 'do_nothing', 'closed'): 0,\n",
    "    ('closed', 'do_nothing', 'closed'): 1\n",
    "}"
   ]
  },
  {
   "cell_type": "code",
   "execution_count": 5,
   "metadata": {},
   "outputs": [],
   "source": [
    "# key = (measurement, current_state)\n",
    "measurement_p = {\n",
    "    ('open', 'open'): 0.6,\n",
    "    ('closed', 'open'): 0.4,\n",
    "    ('open', 'closed'): 0.2,\n",
    "    ('closed', 'closed'): 0.8\n",
    "}"
   ]
  },
  {
   "cell_type": "code",
   "execution_count": 6,
   "metadata": {},
   "outputs": [],
   "source": [
    "def action(real_world_door_state, u):\n",
    "    \"\"\" Simulate a real world action where the robot tries to open the door. \"\"\"\n",
    "    if u == 'do_nothing':\n",
    "        return real_world_door_state\n",
    "    elif u == 'push' and real_world_door_state == 'open':\n",
    "        return 'open'\n",
    "    elif u == 'push' and real_world_door_state == 'closed':\n",
    "        return np.random.choice(states, p=[0.8, 0.2])"
   ]
  },
  {
   "cell_type": "code",
   "execution_count": 7,
   "metadata": {},
   "outputs": [],
   "source": [
    "def measure(real_world_door_state):\n",
    "    \"\"\" Simulate a real world measurement by the robot's sensor. \"\"\"\n",
    "    if real_world_door_state == 'open':\n",
    "        return np.random.choice(states, p=[0.6, 0.4])\n",
    "    elif real_world_door_state == 'closed':\n",
    "        return np.random.choice(states, p=[0.2, 0.8])"
   ]
  },
  {
   "cell_type": "code",
   "execution_count": 12,
   "metadata": {},
   "outputs": [],
   "source": [
    "def normalize_belief(belief):\n",
    "    \"\"\"\n",
    "    Normalize the (dictionary based) belief distribution to represent probability\n",
    "    \"\"\"\n",
    "    return belief"
   ]
  },
  {
   "cell_type": "code",
   "execution_count": 13,
   "metadata": {},
   "outputs": [],
   "source": [
    "def bayes_filter(belief, u, z):\n",
    "    \"\"\"\n",
    "    Implements the bayes filter for a single step.\n",
    "    \n",
    "    Args:\n",
    "        belief: current belief\n",
    "        u: the control action\n",
    "        z: the measurement\n",
    "    \n",
    "    Returns:\n",
    "        belief: updated with control action `u` and measurement `z`\n",
    "    \"\"\"\n",
    "    return belief"
   ]
  },
  {
   "cell_type": "code",
   "execution_count": 10,
   "metadata": {},
   "outputs": [],
   "source": [
    "def bayes_filter_simulation(real_world_door_state, belief, simulation_steps=30):\n",
    "    \"\"\" \n",
    "    Simulates the bayes filter. \n",
    "    \n",
    "    Args:\n",
    "        real_world_door_state: initial state of the door in the real world\n",
    "        belief: the initial belief of the robot\n",
    "        simulation_steps: number of steps to simulate\n",
    "    \n",
    "    Returns:\n",
    "        logs: an array of recorded values\n",
    "    \"\"\"\n",
    "    logs = []\n",
    "    u = ['do_nothing']*simulation_steps\n",
    "    for step in range(simulation_steps):\n",
    "        real_world_door_state = action(real_world_door_state, u[step])\n",
    "        z = measure(real_world_door_state)\n",
    "        belief = bayes_filter(belief, u[step], z)\n",
    "        logs.append([belief['open'], u[step], z])\n",
    "    return np.array(logs)"
   ]
  },
  {
   "cell_type": "code",
   "execution_count": 11,
   "metadata": {},
   "outputs": [
    {
     "data": {
      "application/vnd.jupyter.widget-view+json": {
       "model_id": "db0c2f4cf62145a7986956fd294deba9",
       "version_major": 2,
       "version_minor": 0
      },
      "text/plain": [
       "FigureWidget({\n",
       "    'data': [{'name': 'Почетно верување',\n",
       "              'type': 'scatter',\n",
       "              'uid':…"
      ]
     },
     "metadata": {},
     "output_type": "display_data"
    }
   ],
   "source": [
    "initial_belief = {'open': 0.5, 'closed': 0.5}\n",
    "# морам да ја напишам оваа линија бидејќи initial_belief е речник и се менува во bayes_filter_simulation()\n",
    "# моментално наједноставно решение :D\n",
    "initial_belief_for_fig = initial_belief['open']\n",
    "real_world_door_state = 'closed'\n",
    "logs = bayes_filter_simulation(real_world_door_state, initial_belief)\n",
    "belief, u, z = logs.T\n",
    "\n",
    "u_corrected = [0.95 if x == 'push' else 0.05 for x in u]\n",
    "z_corrected = [1 if x == 'open' else 0 for x in z]\n",
    "\n",
    "fig = go.FigureWidget([\n",
    "    go.Scatter(x=[-1], y=[initial_belief_for_fig], name='Почетно верување'),\n",
    "    go.Scatter(y=u_corrected, mode='markers', marker=dict(size=6), name='Туркање на вратата'),\n",
    "    go.Scatter(y=z_corrected, mode='markers', marker=dict(symbol='x', size=6), name='Мерење'),\n",
    "    go.Scatter(y=belief, name='Верување'),\n",
    "])\n",
    "fig"
   ]
  },
  {
   "cell_type": "markdown",
   "metadata": {},
   "source": [
    "## Задачи на кои треба да одговорите\n",
    "\n",
    "1. Проучете ја темелно глава 2 од книгата Веројатносна роботика.\n",
    "1. Разгледајте го примерот со роботот, исто така од глава 2.\n",
    "1. Имплементирајте ги функциите од примерот.\n",
    "    - `Функцијата normalize_belief()`.\n",
    "    - `Функцијата bayes_filter()`.\n",
    "1. Симулирајте ја функцијата `bayes_filter_simulation()` за 30 чекори.\n",
    "1. Направете измени во `bayes_filter_simulation()` така што роботот секогаш ќе ја турка вратата кога со веројатност од 0.9 ќе биде сигурен дека вратата е затворена.\n",
    "1. Направете график со стогови за распределбата на верувањето по состојби."
   ]
  },
  {
   "cell_type": "markdown",
   "metadata": {},
   "source": [
    "## Решение"
   ]
  },
  {
   "cell_type": "code",
   "execution_count": 1,
   "metadata": {},
   "outputs": [
    {
     "data": {
      "image/jpeg": "[encoded data removed]",
      "text/html": [
       "\n",
       "        <iframe\n",
       "            width=\"400\"\n",
       "            height=\"300\"\n",
       "            src=\"https://www.youtube.com/embed/xu18GxkiXKk\"\n",
       "            frameborder=\"0\"\n",
       "            allowfullscreen\n",
       "            \n",
       "        ></iframe>\n",
       "        "
      ],
      "text/plain": [
       "<IPython.lib.display.YouTubeVideo at 0x21a4598a090>"
      ]
     },
     "execution_count": 1,
     "metadata": {},
     "output_type": "execute_result"
    }
   ],
   "source": [
    "from IPython.lib.display import YouTubeVideo\n",
    "YouTubeVideo('xu18GxkiXKk')"
   ]
  },
  {
   "cell_type": "code",
   "execution_count": null,
   "metadata": {},
   "outputs": [],
   "source": []
  },
  {
   "cell_type": "code",
   "execution_count": null,
   "metadata": {},
   "outputs": [],
   "source": []
  },
  {
   "cell_type": "code",
   "execution_count": null,
   "metadata": {},
   "outputs": [],
   "source": []
  }
 ],
 "metadata": {
  "kernelspec": {
   "display_name": "Python 3 (ipykernel)",
   "language": "python",
   "name": "python3"
  },
  "language_info": {
   "codemirror_mode": {
    "name": "ipython",
    "version": 3
   },
   "file_extension": ".py",
   "mimetype": "text/x-python",
   "name": "python",
   "nbconvert_exporter": "python",
   "pygments_lexer": "ipython3",
   "version": "3.11.7"
  }
 },
 "nbformat": 4,
 "nbformat_minor": 4
}
